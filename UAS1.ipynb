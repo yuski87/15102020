{
  "nbformat": 4,
  "nbformat_minor": 0,
  "metadata": {
    "colab": {
      "name": "UAS1.ipynb",
      "provenance": [],
      "authorship_tag": "ABX9TyOlJ3/Gj890+kF2jyplOTk0",
      "include_colab_link": true
    },
    "kernelspec": {
      "name": "python3",
      "display_name": "Python 3"
    }
  },
  "cells": [
    {
      "cell_type": "markdown",
      "metadata": {
        "id": "view-in-github",
        "colab_type": "text"
      },
      "source": [
        "<a href=\"https://colab.research.google.com/github/yuski87/15102020/blob/main/UAS1.ipynb\" target=\"_parent\"><img src=\"https://colab.research.google.com/assets/colab-badge.svg\" alt=\"Open In Colab\"/></a>"
      ]
    },
    {
      "cell_type": "code",
      "metadata": {
        "id": "hsia_1g_FBga"
      },
      "source": [
        "import tweepy\r\n",
        "from textblob import TextBlob\r\n",
        "import pandas as pd\r\n",
        "import numpy as np\r\n",
        "import re,string\r\n",
        "import matplotlib.pyplot as plt \r\n",
        "plt.style.use('fivethirtyeight')\r\n",
        "\r\n",
        "from nltk.corpus import stopwords\r\n",
        "from wordcloud import WordCloud,STOPWORDS\r\n",
        "\r\n",
        "import csv"
      ],
      "execution_count": 1,
      "outputs": []
    },
    {
      "cell_type": "markdown",
      "metadata": {
        "id": "N-el22_OMcXE"
      },
      "source": [
        "Untuk Bahan-Bahan sebelum kita melakukan sentiment"
      ]
    },
    {
      "cell_type": "code",
      "metadata": {
        "id": "QIy-75apFEFa"
      },
      "source": [
        "consumer_key = 'eeGHzMoEm1yBnvBVocoJvz5OE'\r\n",
        "consumer_secret = 'VKhulg9uEhAlLis3NtuUbmW8MiYV79uVbTY6gauq3Wi3CysNqi'\r\n",
        "access_token = '567007241-QaWjCIGIhDzR8RjGTw4tlPFyQpLcUss7MHxm5Gid'\r\n",
        "access_token_secret = '3HeMjSvLbLWQ7wlstu4oelULBsiORUwY6i5HAYMtJCZxJ'\r\n",
        "\r\n",
        "auth = tweepy.OAuthHandler(consumer_key, consumer_secret)\r\n",
        "auth.set_access_token(access_token, access_token_secret)\r\n",
        "api = tweepy.API(auth, wait_on_rate_limit=True)"
      ],
      "execution_count": 10,
      "outputs": []
    },
    {
      "cell_type": "markdown",
      "metadata": {
        "id": "mavF_WU7MkT1"
      },
      "source": [
        "Authentication terhadap twitter developer "
      ]
    },
    {
      "cell_type": "code",
      "metadata": {
        "colab": {
          "base_uri": "https://localhost:8080/",
          "height": 0
        },
        "id": "DZZBgn--FGPv",
        "outputId": "e712f544-739a-49cf-f84f-7795aebb2b1d"
      },
      "source": [
        "csvFile = open('myrep.csv','a', encoding='utf-8')\r\n",
        "csvWriter = csv.writer(csvFile)\r\n",
        "for tweet in tweepy.Cursor(api.search, q= \"MyRepublic\",count=2000, \r\n",
        "                          lang='id').items(2000):\r\n",
        "    print(tweet.text)\r\n",
        "    csvWriter.writerow([tweet.text])"
      ],
      "execution_count": 53,
      "outputs": [
        {
          "output_type": "stream",
          "text": [
            "@tanyainrl tim myrepublic\n",
            "@termanich /. Pake wifi myrepublic\n",
            "RT @myrepublicnz: We have been made aware of a survey purporting to be from MyRepublic. This scam offers customers the chance to win an iPh…\n",
            "@myrepublicnz Which I am not going to do. So since that post on the 30th this shit is still on going best solution shit can MyRepublic\n",
            "@pveyes @imrenagi bro, should put biznet, myrepublic, and other too as a comparison. Any repo?\n",
            "We have been made aware of a survey purporting to be from MyRepublic. This scam offers customers the chance to win… https://t.co/eZeXgQDM5z\n",
            "We have been made aware of a survey purporting to be from MyRepublic. This scam offers customers the chance to win… https://t.co/mhUqzi2eY1\n",
            "@seb0ongie pake myrepublic\n",
            "@Myrepublic out in Melbourne. Anyone else?\n",
            "@JesterGFX Hi Jester, thanks for contacting MyRepublic! We are very sorry to hear about your recent issues with you… https://t.co/d3eADjQzo4\n",
            "fuck yes i'm back with myrepublic\n",
            "@LKSMDR @infomalang Thank you mbak mya, btw Myrepublic ama biznet mending mana?\n",
            "@starkjeon Uhhhhh maybe not myrepublic :/ I have heard some not very good feedback abt them :/\n",
            "@minsongwolnim LOL HAHA omg i feel your bro's pain. XD I was trying to switch my house broadband provider to myrepu… https://t.co/EokmwDzkG0\n",
            "Looking to do research on SIM Only with No Contract and New Signup?\n",
            "https://t.co/hgnTc7Bt57\n",
            "2021 Edition 13 is rele… https://t.co/iNxbZEmZts\n",
            "RT @HIREMAIDEA: Some MyRepublic broadband users face connectivity issues for more than 24 hours https://t.co/6qaDuNTIsJ\n",
            "Myrepublic network really problematic asf.\n",
            "MyRepublic broadband outage hits some users https://t.co/y3Hu4tM3Gw\n",
            "MyRepublic broadband outage hits some users https://t.co/Rb04Wg9PhT\n",
            "still thinking if i should stream later or not.\n",
            "\n",
            "this whole debacle by #myrepublic kinda zapped a bit of my energy. https://t.co/G3uhnIcrZG\n",
            "firstmedia / myrepublic?\n",
            "the internet connection by #myrepublic is finally stabilized. well for me at least. but im not gonna say for others… https://t.co/yXFDoQqdMq\n",
            "Myrepublic is down. Nice\n",
            "thanks a lot MyRepublic for shutting off my internet for 45 mins on a public holidays WITH TEN MINS NOTICE\n",
            "\n",
            "I WAS IN A RANKED GAME YOU FUCKS\n",
            "No Internet... But at least MyRepublic informed us of the downtime before hand.\n",
            "RT @BusinessTimes: Some MyRepublic broadband users face connectivity issues for over 24 hours https://t.co/7WMjGhRk60 https://t.co/ZwQvuMqc…\n",
            "Some MyRepublic broadband users face connectivity issues for over 24 hours https://t.co/7WMjGhRk60 https://t.co/ZwQvuMqcL0\n",
            "Some MyRepublic broadband users face connectivity issues for more than 24 hours https://t.co/6qaDuNTIsJ\n",
            "Some MyRepublic broadband users face connectivity issues for more than 24 hours https://t.co/4kFRVaVl3B\n",
            "Some MyRepublic broadband users face connectivity issues for more than 24 hours https://t.co/MIYS6Vx8CP\n",
            "oh yeah. hello 2021. i forgotten about you in the midst of my disappointment with myrepublic. 🥲\n",
            "damn amazing. Myrepublic still down. from 7+am till now, new day 12:55am. 🙄🙄🙄🙄\n",
            "@amir_sabir Im using MyRepublic wifi too but mine has been okay the whole day though. Have you tried restarting your whole set up?\n",
            "bunch of liars this Myrepublic. claim internet issue has been reolved on their facebook page. but it's still downnn. D;\n",
            "Myrepublic acting up on the last day of the year. gee. 😒\n",
            "Thanks to Myrepublic I won’t be able to watch Dynamite live today. 🙄\n",
            "WiFi is acting like a bitch early morning. C'mon MyRepublic. Not on the last day of the year.\n",
            "@StevenKupenga Hi there, thanks for contacting MyRepublic! We are sorry to hear about your recent issues with your… https://t.co/IVlJ2cvb1n\n",
            "You know what they say: hindsight is 2020.\n",
            "2021 must embody foresight and forward thinking then ;) \n",
            "\n",
            "Bring it on 20… https://t.co/T7VlvXU9En\n",
            "Myrepublic sudah hadir di sini\n",
            "Summarecon Serpong - Cluster Goldfinch\n"
          ],
          "name": "stdout"
        }
      ]
    },
    {
      "cell_type": "markdown",
      "metadata": {
        "id": "HrjVH7E9MsCy"
      },
      "source": [
        "Membuat file csv yg isinya ialah search Myrepublic yg kita cari"
      ]
    },
    {
      "cell_type": "code",
      "metadata": {
        "colab": {
          "base_uri": "https://localhost:8080/",
          "height": 419
        },
        "id": "LgyUECrgFJbP",
        "outputId": "e7d98b8a-7e85-4dd6-b79d-a723eccf094e"
      },
      "source": [
        "df = pd.read_csv(\"myrep.csv\", header=None)\r\n",
        "df"
      ],
      "execution_count": 54,
      "outputs": [
        {
          "output_type": "execute_result",
          "data": {
            "text/html": [
              "<div>\n",
              "<style scoped>\n",
              "    .dataframe tbody tr th:only-of-type {\n",
              "        vertical-align: middle;\n",
              "    }\n",
              "\n",
              "    .dataframe tbody tr th {\n",
              "        vertical-align: top;\n",
              "    }\n",
              "\n",
              "    .dataframe thead th {\n",
              "        text-align: right;\n",
              "    }\n",
              "</style>\n",
              "<table border=\"1\" class=\"dataframe\">\n",
              "  <thead>\n",
              "    <tr style=\"text-align: right;\">\n",
              "      <th></th>\n",
              "      <th>0</th>\n",
              "    </tr>\n",
              "  </thead>\n",
              "  <tbody>\n",
              "    <tr>\n",
              "      <th>0</th>\n",
              "      <td>Yuk akhir tahun baru nikmatin diskon yang mena...</td>\n",
              "    </tr>\n",
              "    <tr>\n",
              "      <th>1</th>\n",
              "      <td>Myrepublic sudah hadir di sini\\nApartment Spri...</td>\n",
              "    </tr>\n",
              "    <tr>\n",
              "      <th>2</th>\n",
              "      <td>Myrepublic sudah hadir di sini\\nApartment Seno...</td>\n",
              "    </tr>\n",
              "    <tr>\n",
              "      <th>3</th>\n",
              "      <td>Myrepublic sudah hadir di sini\\nApartment Puri...</td>\n",
              "    </tr>\n",
              "    <tr>\n",
              "      <th>4</th>\n",
              "      <td>Myrepublic sudah hadir di sini\\nApartment Medi...</td>\n",
              "    </tr>\n",
              "    <tr>\n",
              "      <th>...</th>\n",
              "      <td>...</td>\n",
              "    </tr>\n",
              "    <tr>\n",
              "      <th>486</th>\n",
              "      <td>Nonton @netflix bermasalah? Myrepublic jawaban...</td>\n",
              "    </tr>\n",
              "    <tr>\n",
              "      <th>487</th>\n",
              "      <td>@JeJonathanedgar Sebagus kata orang2 yang tela...</td>\n",
              "    </tr>\n",
              "    <tr>\n",
              "      <th>488</th>\n",
              "      <td>@MNCPlayID akhir taun sangatt memuaskan yaaa❤❤...</td>\n",
              "    </tr>\n",
              "    <tr>\n",
              "      <th>489</th>\n",
              "      <td>@wicaksonosty Alhamdulillah setelah ganti myre...</td>\n",
              "    </tr>\n",
              "    <tr>\n",
              "      <th>490</th>\n",
              "      <td>ada yg make myrepublic gaaaaak, dm plisss</td>\n",
              "    </tr>\n",
              "  </tbody>\n",
              "</table>\n",
              "<p>491 rows × 1 columns</p>\n",
              "</div>"
            ],
            "text/plain": [
              "                                                     0\n",
              "0    Yuk akhir tahun baru nikmatin diskon yang mena...\n",
              "1    Myrepublic sudah hadir di sini\\nApartment Spri...\n",
              "2    Myrepublic sudah hadir di sini\\nApartment Seno...\n",
              "3    Myrepublic sudah hadir di sini\\nApartment Puri...\n",
              "4    Myrepublic sudah hadir di sini\\nApartment Medi...\n",
              "..                                                 ...\n",
              "486  Nonton @netflix bermasalah? Myrepublic jawaban...\n",
              "487  @JeJonathanedgar Sebagus kata orang2 yang tela...\n",
              "488  @MNCPlayID akhir taun sangatt memuaskan yaaa❤❤...\n",
              "489  @wicaksonosty Alhamdulillah setelah ganti myre...\n",
              "490          ada yg make myrepublic gaaaaak, dm plisss\n",
              "\n",
              "[491 rows x 1 columns]"
            ]
          },
          "metadata": {
            "tags": []
          },
          "execution_count": 54
        }
      ]
    },
    {
      "cell_type": "markdown",
      "metadata": {
        "id": "wIuudVETMyuI"
      },
      "source": [
        "Membaca Header File csv"
      ]
    },
    {
      "cell_type": "code",
      "metadata": {
        "colab": {
          "base_uri": "https://localhost:8080/",
          "height": 419
        },
        "id": "wdfqI95r2FjW",
        "outputId": "ebb4d8b8-49f6-4885-e69d-d665f1747089"
      },
      "source": [
        "def praproses(teks):\r\n",
        "    teks = re.sub(r'http\\S+','',teks)\r\n",
        "    teks = hapus_tanda(teks)\r\n",
        "    teks = re.sub(r'#([^\\s]+)', r'\\1', teks) #hapus #tagger\r\n",
        "    teks = re.sub('@[A-Za-z0-9]+', '',teks)  #hapus @\r\n",
        "    teks = re.sub(r':([^\\s]+)', r'\\1', teks) #hapus #tagger\r\n",
        "    teks = re.sub('RT[\\s]+', '',teks)#hapus RT\r\n",
        "    teks = re.sub('https?:\\/\\/\\S+', '',teks)#hapus hyperlink\r\n",
        "    teks = re.sub(r'\\w*\\d\\w*', '',teks).strip()#hapus angka dan angka yang berada dalam string\r\n",
        "    teks = hapus_katadouble(teks)#hapus repetisi karakter\r\n",
        "    teks = teks.lower() #ubah jadi lower case\r\n",
        "#     teks = to_kbbi(teks)\r\n",
        "    return teks\r\n",
        "\r\n",
        "def hapus_tanda(teks): \r\n",
        "    tanda_baca = set(string.punctuation)\r\n",
        "    tanda_baca.update(['…'])\r\n",
        "    teks = ''.join(ch for ch in teks if ch not in tanda_baca)\r\n",
        "    return teks\r\n",
        "\r\n",
        "def hapus_katadouble(s): \r\n",
        "    #look for 2 or more repetitions of character and replace with the character itself\r\n",
        "    pattern = re.compile(r\"(.)\\1{1,}\", re.DOTALL)\r\n",
        "    return pattern.sub(r\"\\1\\1\", s)\r\n",
        "\r\n",
        "def kbbi(kata): # penyeragaman kata berdasarkan kbbi \r\n",
        "\t#kbba = [kamus.strip('\\n').strip('\\r') for kamus in open('kamus\\\\kbba.txt')]\r\n",
        "\tkamus_kata = [kamus.strip('\\n').strip('\\r') for kamus in open('kbba.txt')]\r\n",
        "\t#ubah list menjadi dictionary \r\n",
        "\tdic = {}\r\n",
        "\tfor i in kamus_kata: \r\n",
        "\t\t(key, val) = i.split('\\t')\r\n",
        "\t\tdic[str(key)] = val\r\n",
        "\t#kbbi cocokan \r\n",
        "\tfinal_string = ' '.join(str(dic.get(word, word)) for word in kata).split()\r\n",
        "\treturn final_string\r\n",
        "\r\n",
        "def to_kbbi(teks):\r\n",
        "    tek = teks.split()\r\n",
        "    tek = kbbi(tek)\r\n",
        "    return tek\r\n",
        "\r\n",
        "#Removing the stopwords from text\r\n",
        "def remove_stopwords(text):\r\n",
        "    final_text = []\r\n",
        "    for i in text.split():\r\n",
        "        if i.strip().lower() not in stop_w:\r\n",
        "            final_text.append(i.strip())\r\n",
        "    return \" \".join(final_text)\r\n",
        "    \r\n",
        "#Removing the noisy text\r\n",
        "def cleanText(text):\r\n",
        "    text = remove_stopwords(text)\r\n",
        "    text = praproses(text)\r\n",
        "    return text\r\n",
        "    \r\n",
        "\r\n",
        "# Load stopword Bahasa Indonesia\r\n",
        "stopword_id = pd.read_csv('stopword_id.csv', sep='\\t', header=None)\r\n",
        "stopword_id.columns = ['word']\r\n",
        "stop_w = stopword_id['word'].to_list() #diubah ke list \r\n",
        "# print('ada' in stop_w) # test periksa kata di dalam list stop_w\r\n",
        "\r\n",
        "# def cleanText(teks):\r\n",
        "#     teks = re.sub('@[A-Za-z0-9]+', '',teks)  #hapus @\r\n",
        "#     teks = re.sub(r'#([^\\s]+)', r'\\1', teks) #hapus #tagger\r\n",
        "#     teks = re.sub('RT[\\s]+', '',teks)#hapus RT\r\n",
        "#     teks = re.sub('https?:\\/\\/\\S+', '',teks)#hapus hyperlink\r\n",
        "#     teks = teks.lower() #ubah jadi lower case\r\n",
        "#     teks = re.sub(r\"[-()\\\"#/@;:<>{}=~|.?,]\", \"\", teks)\r\n",
        "#     import string\r\n",
        "#     killpunctuation = str.maketrans('', '', string.punctuation)\r\n",
        "#     return teks\r\n",
        "\r\n",
        "#Apply function on review column\r\n",
        "df[0] = df[0].apply(cleanText)\r\n",
        "\r\n",
        "df"
      ],
      "execution_count": 55,
      "outputs": [
        {
          "output_type": "execute_result",
          "data": {
            "text/html": [
              "<div>\n",
              "<style scoped>\n",
              "    .dataframe tbody tr th:only-of-type {\n",
              "        vertical-align: middle;\n",
              "    }\n",
              "\n",
              "    .dataframe tbody tr th {\n",
              "        vertical-align: top;\n",
              "    }\n",
              "\n",
              "    .dataframe thead th {\n",
              "        text-align: right;\n",
              "    }\n",
              "</style>\n",
              "<table border=\"1\" class=\"dataframe\">\n",
              "  <thead>\n",
              "    <tr style=\"text-align: right;\">\n",
              "      <th></th>\n",
              "      <th>0</th>\n",
              "    </tr>\n",
              "  </thead>\n",
              "  <tbody>\n",
              "    <tr>\n",
              "      <th>0</th>\n",
              "      <td>yuk nikmatin diskon menarik myrepublic area se...</td>\n",
              "    </tr>\n",
              "    <tr>\n",
              "      <th>1</th>\n",
              "      <td>myrepublic hadir apartment spring hill kemayoran</td>\n",
              "    </tr>\n",
              "    <tr>\n",
              "      <th>2</th>\n",
              "      <td>myrepublic hadir apartment senopati suites</td>\n",
              "    </tr>\n",
              "    <tr>\n",
              "      <th>3</th>\n",
              "      <td>myrepublic hadir apartment puri kemayoran</td>\n",
              "    </tr>\n",
              "    <tr>\n",
              "      <th>4</th>\n",
              "      <td>myrepublic hadir apartment mediterania gajah mada</td>\n",
              "    </tr>\n",
              "    <tr>\n",
              "      <th>...</th>\n",
              "      <td>...</td>\n",
              "    </tr>\n",
              "    <tr>\n",
              "      <th>486</th>\n",
              "      <td>nonton netflix bermasalah myrepublic jawabannya</td>\n",
              "    </tr>\n",
              "    <tr>\n",
              "      <th>487</th>\n",
              "      <td>jejonathanedgar sebagus  myrepublic</td>\n",
              "    </tr>\n",
              "    <tr>\n",
              "      <th>488</th>\n",
              "      <td>mncplayid taun sangatt memuaskan yaa❤❤ enaknya...</td>\n",
              "    </tr>\n",
              "    <tr>\n",
              "      <th>489</th>\n",
              "      <td>wicaksonosty alhamdulillah ganti myrepublic in...</td>\n",
              "    </tr>\n",
              "    <tr>\n",
              "      <th>490</th>\n",
              "      <td>yg make myrepublic gaak dm pliss</td>\n",
              "    </tr>\n",
              "  </tbody>\n",
              "</table>\n",
              "<p>491 rows × 1 columns</p>\n",
              "</div>"
            ],
            "text/plain": [
              "                                                     0\n",
              "0    yuk nikmatin diskon menarik myrepublic area se...\n",
              "1     myrepublic hadir apartment spring hill kemayoran\n",
              "2           myrepublic hadir apartment senopati suites\n",
              "3            myrepublic hadir apartment puri kemayoran\n",
              "4    myrepublic hadir apartment mediterania gajah mada\n",
              "..                                                 ...\n",
              "486    nonton netflix bermasalah myrepublic jawabannya\n",
              "487                jejonathanedgar sebagus  myrepublic\n",
              "488  mncplayid taun sangatt memuaskan yaa❤❤ enaknya...\n",
              "489  wicaksonosty alhamdulillah ganti myrepublic in...\n",
              "490                   yg make myrepublic gaak dm pliss\n",
              "\n",
              "[491 rows x 1 columns]"
            ]
          },
          "metadata": {
            "tags": []
          },
          "execution_count": 55
        }
      ]
    },
    {
      "cell_type": "markdown",
      "metadata": {
        "id": "JJQJMHWSM9bm"
      },
      "source": [
        "Melakukan Cleaning text agar banyak kata tidak penting yang dihilangkan"
      ]
    },
    {
      "cell_type": "code",
      "metadata": {
        "colab": {
          "base_uri": "https://localhost:8080/",
          "height": 419
        },
        "id": "Crf9FVXCHX6l",
        "outputId": "29b4c507-974a-4897-8927-89c6d0e3ecc0"
      },
      "source": [
        "def getSubjectivity(text):\r\n",
        "    return TextBlob(text).sentiment.subjectivity\r\n",
        "\r\n",
        "def getPolarity(text):\r\n",
        "    return TextBlob(text).sentiment.polarity\r\n",
        "\r\n",
        "\r\n",
        "df['Polarity'] = df[0].apply(getPolarity)\r\n",
        "df['Subjectivity'] = df[0].apply(getSubjectivity)\r\n",
        "\r\n",
        "df"
      ],
      "execution_count": 56,
      "outputs": [
        {
          "output_type": "execute_result",
          "data": {
            "text/html": [
              "<div>\n",
              "<style scoped>\n",
              "    .dataframe tbody tr th:only-of-type {\n",
              "        vertical-align: middle;\n",
              "    }\n",
              "\n",
              "    .dataframe tbody tr th {\n",
              "        vertical-align: top;\n",
              "    }\n",
              "\n",
              "    .dataframe thead th {\n",
              "        text-align: right;\n",
              "    }\n",
              "</style>\n",
              "<table border=\"1\" class=\"dataframe\">\n",
              "  <thead>\n",
              "    <tr style=\"text-align: right;\">\n",
              "      <th></th>\n",
              "      <th>0</th>\n",
              "      <th>Polarity</th>\n",
              "      <th>Subjectivity</th>\n",
              "    </tr>\n",
              "  </thead>\n",
              "  <tbody>\n",
              "    <tr>\n",
              "      <th>0</th>\n",
              "      <td>yuk nikmatin diskon menarik myrepublic area se...</td>\n",
              "      <td>0.0</td>\n",
              "      <td>0.0</td>\n",
              "    </tr>\n",
              "    <tr>\n",
              "      <th>1</th>\n",
              "      <td>myrepublic hadir apartment spring hill kemayoran</td>\n",
              "      <td>0.0</td>\n",
              "      <td>0.0</td>\n",
              "    </tr>\n",
              "    <tr>\n",
              "      <th>2</th>\n",
              "      <td>myrepublic hadir apartment senopati suites</td>\n",
              "      <td>0.0</td>\n",
              "      <td>0.0</td>\n",
              "    </tr>\n",
              "    <tr>\n",
              "      <th>3</th>\n",
              "      <td>myrepublic hadir apartment puri kemayoran</td>\n",
              "      <td>0.0</td>\n",
              "      <td>0.0</td>\n",
              "    </tr>\n",
              "    <tr>\n",
              "      <th>4</th>\n",
              "      <td>myrepublic hadir apartment mediterania gajah mada</td>\n",
              "      <td>0.0</td>\n",
              "      <td>0.0</td>\n",
              "    </tr>\n",
              "    <tr>\n",
              "      <th>...</th>\n",
              "      <td>...</td>\n",
              "      <td>...</td>\n",
              "      <td>...</td>\n",
              "    </tr>\n",
              "    <tr>\n",
              "      <th>486</th>\n",
              "      <td>nonton netflix bermasalah myrepublic jawabannya</td>\n",
              "      <td>0.0</td>\n",
              "      <td>0.0</td>\n",
              "    </tr>\n",
              "    <tr>\n",
              "      <th>487</th>\n",
              "      <td>jejonathanedgar sebagus  myrepublic</td>\n",
              "      <td>0.0</td>\n",
              "      <td>0.0</td>\n",
              "    </tr>\n",
              "    <tr>\n",
              "      <th>488</th>\n",
              "      <td>mncplayid taun sangatt memuaskan yaa❤❤ enaknya...</td>\n",
              "      <td>0.0</td>\n",
              "      <td>0.0</td>\n",
              "    </tr>\n",
              "    <tr>\n",
              "      <th>489</th>\n",
              "      <td>wicaksonosty alhamdulillah ganti myrepublic in...</td>\n",
              "      <td>0.0</td>\n",
              "      <td>0.0</td>\n",
              "    </tr>\n",
              "    <tr>\n",
              "      <th>490</th>\n",
              "      <td>yg make myrepublic gaak dm pliss</td>\n",
              "      <td>0.0</td>\n",
              "      <td>0.0</td>\n",
              "    </tr>\n",
              "  </tbody>\n",
              "</table>\n",
              "<p>491 rows × 3 columns</p>\n",
              "</div>"
            ],
            "text/plain": [
              "                                                     0  Polarity  Subjectivity\n",
              "0    yuk nikmatin diskon menarik myrepublic area se...       0.0           0.0\n",
              "1     myrepublic hadir apartment spring hill kemayoran       0.0           0.0\n",
              "2           myrepublic hadir apartment senopati suites       0.0           0.0\n",
              "3            myrepublic hadir apartment puri kemayoran       0.0           0.0\n",
              "4    myrepublic hadir apartment mediterania gajah mada       0.0           0.0\n",
              "..                                                 ...       ...           ...\n",
              "486    nonton netflix bermasalah myrepublic jawabannya       0.0           0.0\n",
              "487                jejonathanedgar sebagus  myrepublic       0.0           0.0\n",
              "488  mncplayid taun sangatt memuaskan yaa❤❤ enaknya...       0.0           0.0\n",
              "489  wicaksonosty alhamdulillah ganti myrepublic in...       0.0           0.0\n",
              "490                   yg make myrepublic gaak dm pliss       0.0           0.0\n",
              "\n",
              "[491 rows x 3 columns]"
            ]
          },
          "metadata": {
            "tags": []
          },
          "execution_count": 56
        }
      ]
    },
    {
      "cell_type": "markdown",
      "metadata": {
        "id": "Z4BfbsMsNIOc"
      },
      "source": [
        "menentukan subjek"
      ]
    },
    {
      "cell_type": "code",
      "metadata": {
        "colab": {
          "base_uri": "https://localhost:8080/",
          "height": 248
        },
        "id": "2XF6XYhGH7My",
        "outputId": "fa152c2f-c667-43d0-dbc3-5740a7f4cbf7"
      },
      "source": [
        "allWords =' '.join([twts for twts in df[0]])\r\n",
        "wc = WordCloud(width = 500 , height = 300 , random_state=10, max_font_size=110).generate(allWords)\r\n",
        "plt.imshow(wc , interpolation = 'bilinear')\r\n",
        "plt.axis('off')\r\n",
        "plt.show()"
      ],
      "execution_count": 57,
      "outputs": [
        {
          "output_type": "display_data",
          "data": {
            "image/png": "[encoded data removed]",
            "text/plain": [
              "<Figure size 432x288 with 1 Axes>"
            ]
          },
          "metadata": {
            "tags": [],
            "needs_background": "light"
          }
        }
      ]
    },
    {
      "cell_type": "markdown",
      "metadata": {
        "id": "Qhs9-uYJNQxQ"
      },
      "source": [
        "memunculkan banyak kata yang sering muncul dalah file"
      ]
    },
    {
      "cell_type": "code",
      "metadata": {
        "colab": {
          "base_uri": "https://localhost:8080/",
          "height": 419
        },
        "id": "JuX4OF_UH-nE",
        "outputId": "36dd2a97-bf27-42f9-e48e-b8b6507542e5"
      },
      "source": [
        " #untuk menambahkan sentimen positif, negatif / netral dari polarity yg sudah dihitung\r\n",
        "def getAnalysisSentiment(score):\r\n",
        "    if score < 0:\r\n",
        "        return 'Negative'\r\n",
        "    elif score == 0:\r\n",
        "        return 'Neutral'\r\n",
        "    else:\r\n",
        "        return 'Positive'\r\n",
        "    \r\n",
        "        \r\n",
        "df['Analysis'] = df['Polarity'].apply(getAnalysisSentiment)\r\n",
        "\r\n",
        "df"
      ],
      "execution_count": 58,
      "outputs": [
        {
          "output_type": "execute_result",
          "data": {
            "text/html": [
              "<div>\n",
              "<style scoped>\n",
              "    .dataframe tbody tr th:only-of-type {\n",
              "        vertical-align: middle;\n",
              "    }\n",
              "\n",
              "    .dataframe tbody tr th {\n",
              "        vertical-align: top;\n",
              "    }\n",
              "\n",
              "    .dataframe thead th {\n",
              "        text-align: right;\n",
              "    }\n",
              "</style>\n",
              "<table border=\"1\" class=\"dataframe\">\n",
              "  <thead>\n",
              "    <tr style=\"text-align: right;\">\n",
              "      <th></th>\n",
              "      <th>0</th>\n",
              "      <th>Polarity</th>\n",
              "      <th>Subjectivity</th>\n",
              "      <th>Analysis</th>\n",
              "    </tr>\n",
              "  </thead>\n",
              "  <tbody>\n",
              "    <tr>\n",
              "      <th>0</th>\n",
              "      <td>yuk nikmatin diskon menarik myrepublic area se...</td>\n",
              "      <td>0.0</td>\n",
              "      <td>0.0</td>\n",
              "      <td>Neutral</td>\n",
              "    </tr>\n",
              "    <tr>\n",
              "      <th>1</th>\n",
              "      <td>myrepublic hadir apartment spring hill kemayoran</td>\n",
              "      <td>0.0</td>\n",
              "      <td>0.0</td>\n",
              "      <td>Neutral</td>\n",
              "    </tr>\n",
              "    <tr>\n",
              "      <th>2</th>\n",
              "      <td>myrepublic hadir apartment senopati suites</td>\n",
              "      <td>0.0</td>\n",
              "      <td>0.0</td>\n",
              "      <td>Neutral</td>\n",
              "    </tr>\n",
              "    <tr>\n",
              "      <th>3</th>\n",
              "      <td>myrepublic hadir apartment puri kemayoran</td>\n",
              "      <td>0.0</td>\n",
              "      <td>0.0</td>\n",
              "      <td>Neutral</td>\n",
              "    </tr>\n",
              "    <tr>\n",
              "      <th>4</th>\n",
              "      <td>myrepublic hadir apartment mediterania gajah mada</td>\n",
              "      <td>0.0</td>\n",
              "      <td>0.0</td>\n",
              "      <td>Neutral</td>\n",
              "    </tr>\n",
              "    <tr>\n",
              "      <th>...</th>\n",
              "      <td>...</td>\n",
              "      <td>...</td>\n",
              "      <td>...</td>\n",
              "      <td>...</td>\n",
              "    </tr>\n",
              "    <tr>\n",
              "      <th>486</th>\n",
              "      <td>nonton netflix bermasalah myrepublic jawabannya</td>\n",
              "      <td>0.0</td>\n",
              "      <td>0.0</td>\n",
              "      <td>Neutral</td>\n",
              "    </tr>\n",
              "    <tr>\n",
              "      <th>487</th>\n",
              "      <td>jejonathanedgar sebagus  myrepublic</td>\n",
              "      <td>0.0</td>\n",
              "      <td>0.0</td>\n",
              "      <td>Neutral</td>\n",
              "    </tr>\n",
              "    <tr>\n",
              "      <th>488</th>\n",
              "      <td>mncplayid taun sangatt memuaskan yaa❤❤ enaknya...</td>\n",
              "      <td>0.0</td>\n",
              "      <td>0.0</td>\n",
              "      <td>Neutral</td>\n",
              "    </tr>\n",
              "    <tr>\n",
              "      <th>489</th>\n",
              "      <td>wicaksonosty alhamdulillah ganti myrepublic in...</td>\n",
              "      <td>0.0</td>\n",
              "      <td>0.0</td>\n",
              "      <td>Neutral</td>\n",
              "    </tr>\n",
              "    <tr>\n",
              "      <th>490</th>\n",
              "      <td>yg make myrepublic gaak dm pliss</td>\n",
              "      <td>0.0</td>\n",
              "      <td>0.0</td>\n",
              "      <td>Neutral</td>\n",
              "    </tr>\n",
              "  </tbody>\n",
              "</table>\n",
              "<p>491 rows × 4 columns</p>\n",
              "</div>"
            ],
            "text/plain": [
              "                                                     0  ...  Analysis\n",
              "0    yuk nikmatin diskon menarik myrepublic area se...  ...   Neutral\n",
              "1     myrepublic hadir apartment spring hill kemayoran  ...   Neutral\n",
              "2           myrepublic hadir apartment senopati suites  ...   Neutral\n",
              "3            myrepublic hadir apartment puri kemayoran  ...   Neutral\n",
              "4    myrepublic hadir apartment mediterania gajah mada  ...   Neutral\n",
              "..                                                 ...  ...       ...\n",
              "486    nonton netflix bermasalah myrepublic jawabannya  ...   Neutral\n",
              "487                jejonathanedgar sebagus  myrepublic  ...   Neutral\n",
              "488  mncplayid taun sangatt memuaskan yaa❤❤ enaknya...  ...   Neutral\n",
              "489  wicaksonosty alhamdulillah ganti myrepublic in...  ...   Neutral\n",
              "490                   yg make myrepublic gaak dm pliss  ...   Neutral\n",
              "\n",
              "[491 rows x 4 columns]"
            ]
          },
          "metadata": {
            "tags": []
          },
          "execution_count": 58
        }
      ]
    },
    {
      "cell_type": "markdown",
      "metadata": {
        "id": "u8RgjuEXNYxZ"
      },
      "source": [
        "Menentukan Komen negatif dan positif"
      ]
    },
    {
      "cell_type": "code",
      "metadata": {
        "colab": {
          "base_uri": "https://localhost:8080/",
          "height": 405
        },
        "id": "Si3xnR3vIQ1U",
        "outputId": "d306cc19-c48d-45fa-ec9a-6f0d9eab25f1"
      },
      "source": [
        "plt.figure(figsize=(8,6))\r\n",
        "for i in range(0, df.shape[0]):\r\n",
        "    plt.scatter(df[\"Polarity\"][i], df[\"Subjectivity\"][i], color=\"Blue\")\r\n",
        "    \r\n",
        "plt.title('Sentiment Analysis')\r\n",
        "plt.xlabel('Polarity')\r\n",
        "plt.ylabel('Subjectivity')\r\n",
        "plt.show()"
      ],
      "execution_count": 59,
      "outputs": [
        {
          "output_type": "display_data",
          "data": {
            "image/png": "[encoded data removed]",
            "text/plain": [
              "<Figure size 576x432 with 1 Axes>"
            ]
          },
          "metadata": {
            "tags": [],
            "needs_background": "light"
          }
        }
      ]
    },
    {
      "cell_type": "markdown",
      "metadata": {
        "id": "dsbqZA3KNfDd"
      },
      "source": [
        "Sentiment analysis dan membuat grafik "
      ]
    },
    {
      "cell_type": "code",
      "metadata": {
        "colab": {
          "base_uri": "https://localhost:8080/",
          "height": 0
        },
        "id": "yfx8q_LAITSr",
        "outputId": "3d6edbe2-a3e2-4a10-f78c-8f01e86b875e"
      },
      "source": [
        "df['Analysis'].value_counts()"
      ],
      "execution_count": 60,
      "outputs": [
        {
          "output_type": "execute_result",
          "data": {
            "text/plain": [
              "Neutral     471\n",
              "Positive     12\n",
              "Negative      8\n",
              "Name: Analysis, dtype: int64"
            ]
          },
          "metadata": {
            "tags": []
          },
          "execution_count": 60
        }
      ]
    },
    {
      "cell_type": "markdown",
      "metadata": {
        "id": "a8NWEESfNpTi"
      },
      "source": [
        "Menghitung Berapa keseluruhan komentar yang masuk ke dalam positif negatif serta netral"
      ]
    },
    {
      "cell_type": "code",
      "metadata": {
        "colab": {
          "base_uri": "https://localhost:8080/",
          "height": 331
        },
        "id": "fEovNFyXIWGc",
        "outputId": "453dcf17-694f-4222-e96e-bcc19d382d99"
      },
      "source": [
        "plt.title('Sentiment Analysis')\r\n",
        "plt.xlabel('Sentiment')\r\n",
        "plt.ylabel('Counts')\r\n",
        "df['Analysis'].value_counts().plot(kind ='bar')\r\n",
        "plt.show()"
      ],
      "execution_count": 61,
      "outputs": [
        {
          "output_type": "display_data",
          "data": {
            "image/png": "[encoded data removed]",
            "text/plain": [
              "<Figure size 432x288 with 1 Axes>"
            ]
          },
          "metadata": {
            "tags": [],
            "needs_background": "light"
          }
        }
      ]
    },
    {
      "cell_type": "markdown",
      "metadata": {
        "id": "ZrXas8ogN6U2"
      },
      "source": [
        "Membuat grafik pada komentar"
      ]
    },
    {
      "cell_type": "code",
      "metadata": {
        "id": "hHoWRJPuIYpc"
      },
      "source": [
        ""
      ],
      "execution_count": null,
      "outputs": []
    }
  ]
}